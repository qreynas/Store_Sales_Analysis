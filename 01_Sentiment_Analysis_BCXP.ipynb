{
  "nbformat": 4,
  "nbformat_minor": 0,
  "metadata": {
    "colab": {
      "provenance": [],
      "authorship_tag": "ABX9TyPsyzYjW+FRX5MPvqc2g0rv",
      "include_colab_link": true
    },
    "kernelspec": {
      "name": "python3",
      "display_name": "Python 3"
    },
    "language_info": {
      "name": "python"
    }
  },
  "cells": [
    {
      "cell_type": "markdown",
      "metadata": {
        "id": "view-in-github",
        "colab_type": "text"
      },
      "source": [
        "<a href=\"https://colab.research.google.com/github/qreynas/Store_Sales_Analysis/blob/main/01_Sentiment_Analysis_BCXP.ipynb\" target=\"_parent\"><img src=\"https://colab.research.google.com/assets/colab-badge.svg\" alt=\"Open In Colab\"/></a>"
      ]
    },
    {
      "cell_type": "markdown",
      "source": [
        "#Cleaning\n",
        "\n",
        "Bootcap Xperience. Este ejercicio esta basado en Sentiment140 Dataset.\n",
        "\n",
        "El conjunto de datos es una colección de 1,6 millones de tuits que **han sido etiquetados como positivos o negativos**.\n",
        "\n",
        "\n",
        "Pregunta de trabajo: ¿cómo consiguieron tantos tuits etiquetados? Si buscas en su documentación, [la respuesta está escondida aquí](http://help.sentiment140.com/for-students):\n",
        "\n",
        "> En nuestro enfoque, asumimos que cualquier tuit con emoticones positivos, como :), era positivo, y los tuits con emoticones negativos, como :(, eran negativos.\n",
        "\n",
        "Es bueno discutir eso más adelante, pero por ahora, simplemente limpiemos el asunto. En este cuaderno, eliminaremos las columnas que no queremos y estandarizaremos la columna de sentimiento.\n",
        "\n"
      ],
      "metadata": {
        "id": "BukPkba9t89c"
      }
    }
  ]
}